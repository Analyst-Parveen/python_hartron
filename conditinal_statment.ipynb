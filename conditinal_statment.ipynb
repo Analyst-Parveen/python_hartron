{
  "nbformat": 4,
  "nbformat_minor": 0,
  "metadata": {
    "colab": {
      "provenance": []
    },
    "kernelspec": {
      "name": "python3",
      "display_name": "Python 3"
    },
    "language_info": {
      "name": "python"
    }
  },
  "cells": [
    {
      "cell_type": "code",
      "execution_count": null,
      "metadata": {
        "id": "mP7-9jhHfqmN"
      },
      "outputs": [],
      "source": []
    },
    {
      "cell_type": "markdown",
      "source": [
        "# conditinal statement\n",
        ". If statement\n",
        ". If ELse statment\n",
        ".Nested if statment\n",
        ". short hand If Statement\n",
        ". Short hand If else statement"
      ],
      "metadata": {
        "id": "TFh_J0sdfyHb"
      }
    },
    {
      "cell_type": "code",
      "source": [
        "a=10\n",
        "if a==10:\n",
        "  print(\"yes its true\")\n",
        "  print(\"value is: \",a)"
      ],
      "metadata": {
        "colab": {
          "base_uri": "https://localhost:8080/"
        },
        "id": "EPn42EqigCHj",
        "outputId": "8ccc7f87-45c8-4858-aa03-79c42cc73755"
      },
      "execution_count": 10,
      "outputs": [
        {
          "output_type": "stream",
          "name": "stdout",
          "text": [
            "yes its true\n",
            "value is:  10\n"
          ]
        }
      ]
    },
    {
      "cell_type": "markdown",
      "source": [],
      "metadata": {
        "id": "42toSYaSfwzH"
      }
    },
    {
      "cell_type": "code",
      "source": [
        "a=11\n",
        "if a==10:\n",
        "  print(\"value match  \")\n",
        "  print(\"value is: \",a)\n",
        "else:\n",
        "  print(\"value doest'nt match\")\n",
        ""
      ],
      "metadata": {
        "colab": {
          "base_uri": "https://localhost:8080/"
        },
        "id": "iCK5Zefwhhke",
        "outputId": "3ee00f47-f69f-40a2-a4f1-40fa3c05740a"
      },
      "execution_count": 13,
      "outputs": [
        {
          "output_type": "stream",
          "name": "stdout",
          "text": [
            "value doest'nt match\n"
          ]
        }
      ]
    },
    {
      "cell_type": "code",
      "source": [
        "a=int(input(\"enter a number\"))\n",
        "if a%2==0:\n",
        "  print(\"no is even \",a)\n",
        "else:\n",
        "  print(\"number is odd\",a)\n"
      ],
      "metadata": {
        "colab": {
          "base_uri": "https://localhost:8080/"
        },
        "id": "ZUIIXT7niK_4",
        "outputId": "04390ede-4129-49d9-dbe3-1732636c8113"
      },
      "execution_count": 16,
      "outputs": [
        {
          "output_type": "stream",
          "name": "stdout",
          "text": [
            "enter a number21\n",
            "number is odd 21\n"
          ]
        }
      ]
    },
    {
      "cell_type": "code",
      "source": [
        "a=int(input(\"enter a number: \"))\n",
        "if a<25:\n",
        "  print(\"value is small\",a)\n",
        "elif a<40:\n",
        "  print(\"value is normal\",a)\n",
        "elif a<60:\n",
        "  print(\"value is large\",a)\n",
        "else:\n",
        "  print(\"out of range \",a)"
      ],
      "metadata": {
        "colab": {
          "base_uri": "https://localhost:8080/"
        },
        "id": "LYXZ89uBjODk",
        "outputId": "f59097a7-295f-4315-d2b4-883e812671bf"
      },
      "execution_count": 27,
      "outputs": [
        {
          "output_type": "stream",
          "name": "stdout",
          "text": [
            "enter a number: 10\n",
            "value is small 10\n"
          ]
        }
      ]
    },
    {
      "cell_type": "code",
      "source": [
        "a=11\n",
        "if a==10:print(\"value match\")"
      ],
      "metadata": {
        "id": "ZephiaCpkvXp"
      },
      "execution_count": 32,
      "outputs": []
    },
    {
      "cell_type": "code",
      "source": [
        "a=int(input(\"value bta re\"))\n",
        "print(\"value match: \",a) if a<20 else (\"incorrect valu\")"
      ],
      "metadata": {
        "colab": {
          "base_uri": "https://localhost:8080/"
        },
        "id": "W_M9hy9BksIr",
        "outputId": "c033b80a-a59d-45c4-8a05-4011dd574118"
      },
      "execution_count": 36,
      "outputs": [
        {
          "output_type": "stream",
          "name": "stdout",
          "text": [
            "value bta re18\n",
            "value match:  18\n"
          ]
        }
      ]
    },
    {
      "cell_type": "code",
      "source": [
        "# write a program to check value is positive or negative\n",
        "a=int(input(\"value bol rye \"))\n",
        "if a>=0:\n",
        "  print(\"value is positive\",a)\n",
        "else:\n",
        "  print(\"value is negative\",a)"
      ],
      "metadata": {
        "colab": {
          "base_uri": "https://localhost:8080/"
        },
        "id": "ln80AJDhiKHN",
        "outputId": "46f4745e-6250-43a9-f62e-2215b5303df9"
      },
      "execution_count": 38,
      "outputs": [
        {
          "output_type": "stream",
          "name": "stdout",
          "text": [
            "value bol rye -1\n",
            "value is negative -1\n"
          ]
        }
      ]
    },
    {
      "cell_type": "code",
      "source": [
        "print(\"enter 1 for triangle\")\n",
        "print(\"enter 2 for square\")\n",
        "print(\"enter 3 for rectangle\")\n",
        "print(\"enter 4 for circle \")\n",
        "a=int(input(\"enter the Number\"))\n",
        "if a==1:\n",
        "  side=int(input(\"enter the side of triangle\"))\n",
        "  b=3*side\n",
        "  print(\"Area of side is: \",b)\n",
        "elif a==2:\n",
        "  side=int(input(\"enter the side of square\"))\n",
        "  b=4*side\n",
        "  print(\"Area of square is: \",b)\n",
        "elif a==3:\n",
        "  lenth=int(input(\"enter the length of rectangle\"))\n",
        "  bredth=int(input(\"enter the bredth of rectangle\"))\n",
        "  area=2*(lenth*bredth)\n",
        "  print(\"area of rectangle: \",area)\n",
        "elif a==4:\n",
        "  radius=int(input(\"enter the radius of circle: \"))\n",
        "  area=3.14*(radius*radius)\n",
        "  print(\"area of circle is: \",area)\n",
        "else:\n",
        "  print(\"etc\")\n",
        "\n",
        "\n"
      ],
      "metadata": {
        "colab": {
          "base_uri": "https://localhost:8080/"
        },
        "id": "nhGYvv91oQ-N",
        "outputId": "016c7635-2662-43be-de68-13622f675788"
      },
      "execution_count": 44,
      "outputs": [
        {
          "output_type": "stream",
          "name": "stdout",
          "text": [
            "enter 1 for triangle\n",
            "enter 2 for square\n",
            "enter 3 for rectangle\n",
            "enter 4 for circle \n",
            "enter the Number5\n",
            "etc\n"
          ]
        }
      ]
    },
    {
      "cell_type": "code",
      "source": [
        "# write a programe to cehck if a  number is single digit or 2 digit or 3 digit"
      ],
      "metadata": {
        "id": "6U98ztkisbeF"
      },
      "execution_count": null,
      "outputs": []
    },
    {
      "cell_type": "code",
      "source": [
        "a=int(input(\"enter a number: \"))\n",
        "if a>=0 and a<10:\n",
        "  print(\"single digit number\")\n",
        "elif a>=10 and a<100:\n",
        "  print(\"2 digit number\")\n",
        "elif a>=100 and a<1000:\n",
        "  print(\"3 digit number\")\n",
        "else:\n",
        "  print(\"mne koni bera\")"
      ],
      "metadata": {
        "colab": {
          "base_uri": "https://localhost:8080/"
        },
        "id": "JHTMz56tspmG",
        "outputId": "991cd083-f5c6-405a-9b37-3696515c9d46"
      },
      "execution_count": 48,
      "outputs": [
        {
          "output_type": "stream",
          "name": "stdout",
          "text": [
            "enter a number: 10000\n",
            "mne koni bera\n"
          ]
        }
      ]
    },
    {
      "cell_type": "code",
      "source": [
        "# write a program to identify the vowel ?\n",
        "a=input(\" koi aksr bol rye\")\n",
        "b=\"aeiou\"\n",
        "c=\"AEIOU\"\n",
        "if a in b:\n",
        "  print(\"ha yo swar hai\")\n",
        "elif a in c:\n",
        "  print(\"ha yo bda swar hai\")\n",
        "else:\n",
        "  print(\"its not a swar\")"
      ],
      "metadata": {
        "colab": {
          "base_uri": "https://localhost:8080/"
        },
        "id": "5MorYYXCt_2y",
        "outputId": "15bf90a4-d26b-4d19-850b-b834261449ec"
      },
      "execution_count": 56,
      "outputs": [
        {
          "output_type": "stream",
          "name": "stdout",
          "text": [
            " koi aksr bol ryez\n",
            "its not a swar\n"
          ]
        }
      ]
    }
  ]
}